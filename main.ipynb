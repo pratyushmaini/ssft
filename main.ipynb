{
 "cells": [
  {
   "cell_type": "markdown",
   "metadata": {},
   "source": [
    "### Initialize Jupyter Notebook and assign GPU"
   ]
  },
  {
   "cell_type": "code",
   "execution_count": 1,
   "metadata": {},
   "outputs": [],
   "source": [
    "%load_ext autoreload\n",
    "%autoreload 2\n",
    "\n",
    "import os\n",
    "os.environ[\"CUDA_DEVICE_ORDER\"]=\"PCI_BUS_ID\"   \n",
    "os.environ[\"CUDA_VISIBLE_DEVICES\"]=\"0\""
   ]
  },
  {
   "cell_type": "markdown",
   "metadata": {},
   "source": [
    "### Load utility functions"
   ]
  },
  {
   "cell_type": "code",
   "execution_count": 2,
   "metadata": {},
   "outputs": [],
   "source": [
    "from utils import *\n",
    "from models import *\n",
    "from dataloader import *\n",
    "from torch.optim import SGD"
   ]
  },
  {
   "cell_type": "markdown",
   "metadata": {},
   "source": [
    "### Set Experiment Configs"
   ]
  },
  {
   "cell_type": "code",
   "execution_count": 8,
   "metadata": {},
   "outputs": [],
   "source": [
    "#The name of the first and second split datasets. Keep these same\n",
    "dataset1 = \"mnist\"\n",
    "dataset2 = \"mnist\"\n",
    "\n",
    "\n",
    "#Training parameters for first and second split training\n",
    "weight_decay = 5e-4\n",
    "peak_lr_pre = 0.1\n",
    "peak_lr_ft = 0.1\n",
    "batch_size = 512\n",
    "\n",
    "#Label Noise Ratio in first and second split\n",
    "label_noise_ratio_pre = 0.0\n",
    "label_noise_ratio_ft = 0.0\n",
    "\n",
    "#Model type and learning schedule\n",
    "model_type = \"resnet9\" \n",
    "schedule = \"triangle\" \n",
    "seed = 0\n",
    "\n",
    "#Extra Parameters, not needed\n",
    "minority_1 = 0\n",
    "minority_2 = 0\n",
    "\n",
    "all_args = {\"dataset1\":dataset1, \"dataset2\":dataset2, \"wd\":weight_decay, \"lr1\":peak_lr_pre, \"lr2\":peak_lr_ft, \n",
    "            \"noise_1\":label_noise_ratio_pre, \"noise_2\":label_noise_ratio_ft, \"model\":model_type, \"schedule\":schedule,\n",
    "            \"minority_1\":minority_1, \"minority_2\":minority_2, \"seed\":seed, \"batch_size\":batch_size, \"log_factor\":0,\"seed_superclass\":0}"
   ]
  },
  {
   "cell_type": "markdown",
   "metadata": {},
   "source": [
    "### Get dataset splits"
   ]
  },
  {
   "cell_type": "code",
   "execution_count": 9,
   "metadata": {},
   "outputs": [],
   "source": [
    "#Dictionary containing first and second split data loaders, noise mask and other data-dependent quantities\n",
    "pre_dict, ft_dict = return_loaders(all_args)\n",
    "print(pre_dict.keys())\n",
    "preloader = pre_dict[\"train_loader\"]\n",
    "ftloader = ft_dict[\"train_loader\"]"
   ]
  },
  {
   "cell_type": "markdown",
   "metadata": {},
   "source": [
    "### Model Initialization"
   ]
  },
  {
   "cell_type": "code",
   "execution_count": 10,
   "metadata": {},
   "outputs": [],
   "source": [
    "loss_fn = torch.nn.CrossEntropyLoss(label_smoothing=0)\n",
    "in_channels = 1 if all_args[\"dataset1\"] == \"mnist\" else 3\n",
    "model = get_model(all_args[\"model\"], in_channels=in_channels)"
   ]
  },
  {
   "cell_type": "markdown",
   "metadata": {},
   "source": [
    "### Model Training"
   ]
  },
  {
   "cell_type": "code",
   "execution_count": 12,
   "metadata": {},
   "outputs": [
    {
     "name": "stdout",
     "output_type": "stream",
     "text": [
      "Epoch: 1 | Eval Loader Accuracy: 63.6167%\n",
      "Epoch: 1 | Train Mode Eval Loader Accuracy: 63.6167%\n",
      "Epoch: 2 | Eval Loader Accuracy: 90.9633%\n",
      "Epoch: 2 | Train Mode Eval Loader Accuracy: 90.9633%\n",
      "Epoch: 3 | Eval Loader Accuracy: 95.6633%\n",
      "Epoch: 3 | Train Mode Eval Loader Accuracy: 95.6633%\n",
      "Epoch: 4 | Eval Loader Accuracy: 96.8733%\n",
      "Epoch: 4 | Train Mode Eval Loader Accuracy: 96.8733%\n",
      "Epoch: 5 | Eval Loader Accuracy: 97.4167%\n",
      "Epoch: 5 | Train Mode Eval Loader Accuracy: 97.4167%\n",
      "Epoch: 5 | Accuracy: 97.1167% | Loss: 1.82e-04\n",
      "Epoch: 6 | Eval Loader Accuracy: 98.4467%\n",
      "Epoch: 6 | Train Mode Eval Loader Accuracy: 98.4467%\n",
      "Epoch: 7 | Eval Loader Accuracy: 98.4367%\n",
      "Epoch: 7 | Train Mode Eval Loader Accuracy: 98.4367%\n",
      "Epoch: 8 | Eval Loader Accuracy: 98.4733%\n",
      "Epoch: 8 | Train Mode Eval Loader Accuracy: 98.4733%\n",
      "Epoch: 9 | Eval Loader Accuracy: 98.6267%\n",
      "Epoch: 9 | Train Mode Eval Loader Accuracy: 98.6267%\n",
      "Epoch: 10 | Eval Loader Accuracy: 98.9167%\n",
      "Epoch: 10 | Train Mode Eval Loader Accuracy: 98.9167%\n",
      "Epoch: 10 | Accuracy: 98.8967% | Loss: 7.02e-05\n",
      "Epoch: 11 | Eval Loader Accuracy: 99.2800%\n",
      "Epoch: 11 | Train Mode Eval Loader Accuracy: 99.2800%\n",
      "Epoch: 12 | Eval Loader Accuracy: 99.0767%\n",
      "Epoch: 12 | Train Mode Eval Loader Accuracy: 99.0767%\n",
      "Epoch: 13 | Eval Loader Accuracy: 99.3033%\n",
      "Epoch: 13 | Train Mode Eval Loader Accuracy: 99.3033%\n",
      "Epoch: 14 | Eval Loader Accuracy: 99.4200%\n",
      "Epoch: 14 | Train Mode Eval Loader Accuracy: 99.4200%\n",
      "Epoch: 15 | Eval Loader Accuracy: 99.6433%\n",
      "Epoch: 15 | Train Mode Eval Loader Accuracy: 99.6433%\n",
      "Epoch: 15 | Accuracy: 99.5633% | Loss: 2.87e-05\n",
      "Epoch: 16 | Eval Loader Accuracy: 99.8400%\n",
      "Epoch: 16 | Train Mode Eval Loader Accuracy: 99.8400%\n",
      "Epoch: 17 | Eval Loader Accuracy: 99.7567%\n",
      "Epoch: 17 | Train Mode Eval Loader Accuracy: 99.7567%\n",
      "Epoch: 18 | Eval Loader Accuracy: 99.9200%\n",
      "Epoch: 18 | Train Mode Eval Loader Accuracy: 99.9200%\n",
      "Epoch: 19 | Eval Loader Accuracy: 99.8333%\n",
      "Epoch: 19 | Train Mode Eval Loader Accuracy: 99.8333%\n",
      "Epoch: 20 | Eval Loader Accuracy: 99.9467%\n",
      "Epoch: 20 | Train Mode Eval Loader Accuracy: 99.9467%\n",
      "Epoch: 20 | Accuracy: 99.8500% | Loss: 1.33e-05\n",
      "Epoch: 21 | Eval Loader Accuracy: 99.9533%\n",
      "Epoch: 21 | Train Mode Eval Loader Accuracy: 99.9533%\n",
      "Epoch: 22 | Eval Loader Accuracy: 99.9667%\n",
      "Epoch: 22 | Train Mode Eval Loader Accuracy: 99.9667%\n",
      "Epoch: 23 | Eval Loader Accuracy: 99.9567%\n",
      "Epoch: 23 | Train Mode Eval Loader Accuracy: 99.9567%\n",
      "Epoch: 24 | Eval Loader Accuracy: 99.9700%\n",
      "Epoch: 24 | Train Mode Eval Loader Accuracy: 99.9700%\n",
      "Epoch: 25 | Eval Loader Accuracy: 99.9767%\n",
      "Epoch: 25 | Train Mode Eval Loader Accuracy: 99.9767%\n",
      "Epoch: 25 | Accuracy: 99.9133% | Loss: 8.67e-06\n",
      "Epoch: 26 | Eval Loader Accuracy: 99.8733%\n",
      "Epoch: 26 | Train Mode Eval Loader Accuracy: 99.8733%\n",
      "Epoch: 27 | Eval Loader Accuracy: 99.9733%\n",
      "Epoch: 27 | Train Mode Eval Loader Accuracy: 99.9733%\n",
      "Epoch: 28 | Eval Loader Accuracy: 99.9700%\n",
      "Epoch: 28 | Train Mode Eval Loader Accuracy: 99.9700%\n",
      "Epoch: 29 | Eval Loader Accuracy: 99.9033%\n",
      "Epoch: 29 | Train Mode Eval Loader Accuracy: 99.9033%\n",
      "Epoch: 30 | Eval Loader Accuracy: 99.9933%\n",
      "Epoch: 30 | Train Mode Eval Loader Accuracy: 99.9933%\n",
      "Epoch: 30 | Accuracy: 99.9500% | Loss: 6.42e-06\n",
      "Epoch: 31 | Eval Loader Accuracy: 99.9900%\n",
      "Epoch: 31 | Train Mode Eval Loader Accuracy: 99.9900%\n",
      "Epoch: 32 | Eval Loader Accuracy: 99.9867%\n",
      "Epoch: 32 | Train Mode Eval Loader Accuracy: 99.9867%\n",
      "Epoch: 33 | Eval Loader Accuracy: 99.9800%\n",
      "Epoch: 33 | Train Mode Eval Loader Accuracy: 99.9800%\n",
      "Epoch: 34 | Eval Loader Accuracy: 100.0000%\n",
      "Epoch: 34 | Train Mode Eval Loader Accuracy: 100.0000%\n",
      "Epoch: 35 | Eval Loader Accuracy: 99.9867%\n",
      "Epoch: 35 | Train Mode Eval Loader Accuracy: 99.9867%\n",
      "Epoch: 35 | Accuracy: 99.9833% | Loss: 4.57e-06\n",
      "Epoch: 36 | Eval Loader Accuracy: 99.9533%\n",
      "Epoch: 36 | Train Mode Eval Loader Accuracy: 99.9533%\n",
      "Epoch: 37 | Eval Loader Accuracy: 99.9900%\n",
      "Epoch: 37 | Train Mode Eval Loader Accuracy: 99.9900%\n",
      "Epoch: 38 | Eval Loader Accuracy: 99.9933%\n",
      "Epoch: 38 | Train Mode Eval Loader Accuracy: 99.9933%\n",
      "Epoch: 39 | Eval Loader Accuracy: 100.0000%\n",
      "Epoch: 39 | Train Mode Eval Loader Accuracy: 100.0000%\n",
      "Epoch: 40 | Eval Loader Accuracy: 100.0000%\n",
      "Epoch: 40 | Train Mode Eval Loader Accuracy: 100.0000%\n",
      "Epoch: 40 | Accuracy: 99.9867% | Loss: 5.17e-06\n",
      "Epoch: 41 | Eval Loader Accuracy: 99.9967%\n",
      "Epoch: 41 | Train Mode Eval Loader Accuracy: 99.9967%\n",
      "Epoch: 42 | Eval Loader Accuracy: 99.9967%\n",
      "Epoch: 42 | Train Mode Eval Loader Accuracy: 99.9967%\n",
      "Epoch: 43 | Eval Loader Accuracy: 99.9733%\n",
      "Epoch: 43 | Train Mode Eval Loader Accuracy: 99.9733%\n",
      "Epoch: 44 | Eval Loader Accuracy: 100.0000%\n",
      "Epoch: 44 | Train Mode Eval Loader Accuracy: 100.0000%\n",
      "Epoch: 45 | Eval Loader Accuracy: 100.0000%\n",
      "Epoch: 45 | Train Mode Eval Loader Accuracy: 100.0000%\n",
      "Epoch: 45 | Accuracy: 99.9933% | Loss: 4.81e-06\n",
      "Epoch: 46 | Eval Loader Accuracy: 99.9933%\n",
      "Epoch: 46 | Train Mode Eval Loader Accuracy: 99.9933%\n",
      "Epoch: 47 | Eval Loader Accuracy: 99.9967%\n",
      "Epoch: 47 | Train Mode Eval Loader Accuracy: 99.9967%\n",
      "Epoch: 48 | Eval Loader Accuracy: 99.9933%\n",
      "Epoch: 48 | Train Mode Eval Loader Accuracy: 99.9933%\n",
      "Epoch: 49 | Eval Loader Accuracy: 100.0000%\n",
      "Epoch: 49 | Train Mode Eval Loader Accuracy: 100.0000%\n",
      "Epoch: 50 | Eval Loader Accuracy: 99.9967%\n",
      "Epoch: 50 | Train Mode Eval Loader Accuracy: 99.9967%\n",
      "Epoch: 50 | Accuracy: 99.9933% | Loss: 4.70e-06\n",
      "Epoch: 51 | Eval Loader Accuracy: 100.0000%\n",
      "Epoch: 51 | Train Mode Eval Loader Accuracy: 100.0000%\n",
      "Epoch: 52 | Eval Loader Accuracy: 100.0000%\n",
      "Epoch: 52 | Train Mode Eval Loader Accuracy: 100.0000%\n",
      "Epoch: 53 | Eval Loader Accuracy: 99.9967%\n",
      "Epoch: 53 | Train Mode Eval Loader Accuracy: 99.9967%\n",
      "Epoch: 54 | Eval Loader Accuracy: 99.9900%\n",
      "Epoch: 54 | Train Mode Eval Loader Accuracy: 99.9900%\n",
      "Epoch: 55 | Eval Loader Accuracy: 100.0000%\n",
      "Epoch: 55 | Train Mode Eval Loader Accuracy: 100.0000%\n",
      "Epoch: 55 | Accuracy: 99.9967% | Loss: 4.64e-06\n",
      "Epoch: 56 | Eval Loader Accuracy: 99.9967%\n",
      "Epoch: 56 | Train Mode Eval Loader Accuracy: 99.9967%\n",
      "Epoch: 57 | Eval Loader Accuracy: 100.0000%\n",
      "Epoch: 57 | Train Mode Eval Loader Accuracy: 100.0000%\n",
      "Epoch: 58 | Eval Loader Accuracy: 99.9967%\n",
      "Epoch: 58 | Train Mode Eval Loader Accuracy: 99.9967%\n",
      "Epoch: 59 | Eval Loader Accuracy: 99.9933%\n",
      "Epoch: 59 | Train Mode Eval Loader Accuracy: 99.9933%\n",
      "Epoch: 60 | Eval Loader Accuracy: 100.0000%\n",
      "Epoch: 60 | Train Mode Eval Loader Accuracy: 100.0000%\n",
      "Epoch: 60 | Accuracy: 100.0000% | Loss: 4.33e-06\n",
      "Epoch: 61 | Eval Loader Accuracy: 100.0000%\n",
      "Epoch: 61 | Train Mode Eval Loader Accuracy: 100.0000%\n",
      "Epoch: 62 | Eval Loader Accuracy: 100.0000%\n",
      "Epoch: 62 | Train Mode Eval Loader Accuracy: 100.0000%\n",
      "Epoch: 63 | Eval Loader Accuracy: 99.9900%\n",
      "Epoch: 63 | Train Mode Eval Loader Accuracy: 99.9900%\n",
      "Epoch: 64 | Eval Loader Accuracy: 100.0000%\n",
      "Epoch: 64 | Train Mode Eval Loader Accuracy: 100.0000%\n",
      "Epoch: 65 | Eval Loader Accuracy: 100.0000%\n",
      "Epoch: 65 | Train Mode Eval Loader Accuracy: 100.0000%\n",
      "Epoch: 65 | Accuracy: 99.9967% | Loss: 4.13e-06\n",
      "Epoch: 66 | Eval Loader Accuracy: 100.0000%\n",
      "Epoch: 66 | Train Mode Eval Loader Accuracy: 100.0000%\n",
      "Epoch: 66 | Accuracy: 100.0000% | Loss: 4.18e-06\n",
      "Epoch: 1 | Eval Loader Accuracy: 99.9833%\n",
      "Epoch: 1 | Train Mode Eval Loader Accuracy: 99.9833%\n",
      "Epoch: 2 | Eval Loader Accuracy: 99.6500%\n",
      "Epoch: 2 | Train Mode Eval Loader Accuracy: 99.6500%\n",
      "Epoch: 3 | Eval Loader Accuracy: 99.7467%\n",
      "Epoch: 3 | Train Mode Eval Loader Accuracy: 99.7467%\n",
      "Epoch: 4 | Eval Loader Accuracy: 99.6233%\n",
      "Epoch: 4 | Train Mode Eval Loader Accuracy: 99.6233%\n",
      "Epoch: 5 | Eval Loader Accuracy: 99.3633%\n",
      "Epoch: 5 | Train Mode Eval Loader Accuracy: 99.3633%\n",
      "Epoch: 5 | Accuracy: 99.1900% | Loss: 5.10e-05\n",
      "Epoch: 6 | Eval Loader Accuracy: 99.3667%\n",
      "Epoch: 6 | Train Mode Eval Loader Accuracy: 99.3667%\n",
      "Epoch: 7 | Eval Loader Accuracy: 99.4200%\n",
      "Epoch: 7 | Train Mode Eval Loader Accuracy: 99.4200%\n",
      "Epoch: 8 | Eval Loader Accuracy: 99.1833%\n",
      "Epoch: 8 | Train Mode Eval Loader Accuracy: 99.1833%\n",
      "Epoch: 9 | Eval Loader Accuracy: 99.1500%\n",
      "Epoch: 9 | Train Mode Eval Loader Accuracy: 99.1500%\n",
      "Epoch: 10 | Eval Loader Accuracy: 98.8900%\n",
      "Epoch: 10 | Train Mode Eval Loader Accuracy: 98.8900%\n",
      "Epoch: 10 | Accuracy: 99.4500% | Loss: 3.39e-05\n",
      "Epoch: 11 | Eval Loader Accuracy: 98.8200%\n",
      "Epoch: 11 | Train Mode Eval Loader Accuracy: 98.8200%\n",
      "Epoch: 12 | Eval Loader Accuracy: 99.0633%\n",
      "Epoch: 12 | Train Mode Eval Loader Accuracy: 99.0633%\n",
      "Epoch: 13 | Eval Loader Accuracy: 98.9133%\n",
      "Epoch: 13 | Train Mode Eval Loader Accuracy: 98.9100%\n",
      "Epoch: 14 | Eval Loader Accuracy: 98.9533%\n",
      "Epoch: 14 | Train Mode Eval Loader Accuracy: 98.9533%\n",
      "Epoch: 15 | Eval Loader Accuracy: 99.2367%\n",
      "Epoch: 15 | Train Mode Eval Loader Accuracy: 99.2367%\n",
      "Epoch: 15 | Accuracy: 99.7700% | Loss: 1.66e-05\n",
      "Epoch: 16 | Eval Loader Accuracy: 99.2633%\n",
      "Epoch: 16 | Train Mode Eval Loader Accuracy: 99.2633%\n",
      "Epoch: 17 | Eval Loader Accuracy: 99.3367%\n",
      "Epoch: 17 | Train Mode Eval Loader Accuracy: 99.3367%\n",
      "Epoch: 18 | Eval Loader Accuracy: 99.0967%\n",
      "Epoch: 18 | Train Mode Eval Loader Accuracy: 99.0967%\n",
      "Epoch: 19 | Eval Loader Accuracy: 99.3300%\n",
      "Epoch: 19 | Train Mode Eval Loader Accuracy: 99.3300%\n",
      "Epoch: 20 | Eval Loader Accuracy: 99.4067%\n",
      "Epoch: 20 | Train Mode Eval Loader Accuracy: 99.4067%\n",
      "Epoch: 20 | Accuracy: 99.9300% | Loss: 7.62e-06\n",
      "Epoch: 21 | Eval Loader Accuracy: 99.3233%\n",
      "Epoch: 21 | Train Mode Eval Loader Accuracy: 99.3233%\n",
      "Epoch: 22 | Eval Loader Accuracy: 99.2667%\n",
      "Epoch: 22 | Train Mode Eval Loader Accuracy: 99.2667%\n",
      "Epoch: 23 | Eval Loader Accuracy: 99.3400%\n",
      "Epoch: 23 | Train Mode Eval Loader Accuracy: 99.3400%\n",
      "Epoch: 24 | Eval Loader Accuracy: 99.3700%\n",
      "Epoch: 24 | Train Mode Eval Loader Accuracy: 99.3700%\n",
      "Epoch: 25 | Eval Loader Accuracy: 99.3400%\n",
      "Epoch: 25 | Train Mode Eval Loader Accuracy: 99.3400%\n",
      "Epoch: 25 | Accuracy: 99.9867% | Loss: 4.15e-06\n",
      "Epoch: 26 | Eval Loader Accuracy: 99.3533%\n",
      "Epoch: 26 | Train Mode Eval Loader Accuracy: 99.3533%\n",
      "Epoch: 27 | Eval Loader Accuracy: 99.2067%\n",
      "Epoch: 27 | Train Mode Eval Loader Accuracy: 99.2067%\n",
      "Epoch: 28 | Eval Loader Accuracy: 99.3333%\n",
      "Epoch: 28 | Train Mode Eval Loader Accuracy: 99.3333%\n",
      "Epoch: 29 | Eval Loader Accuracy: 99.3200%\n",
      "Epoch: 29 | Train Mode Eval Loader Accuracy: 99.3200%\n",
      "Epoch: 30 | Eval Loader Accuracy: 99.2433%\n",
      "Epoch: 30 | Train Mode Eval Loader Accuracy: 99.2433%\n",
      "Epoch: 30 | Accuracy: 99.9833% | Loss: 5.50e-06\n",
      "Epoch: 31 | Eval Loader Accuracy: 99.2933%\n",
      "Epoch: 31 | Train Mode Eval Loader Accuracy: 99.2933%\n",
      "Epoch: 32 | Eval Loader Accuracy: 99.3067%\n",
      "Epoch: 32 | Train Mode Eval Loader Accuracy: 99.3067%\n",
      "Epoch: 33 | Eval Loader Accuracy: 99.2100%\n",
      "Epoch: 33 | Train Mode Eval Loader Accuracy: 99.2100%\n",
      "Epoch: 34 | Eval Loader Accuracy: 99.2967%\n",
      "Epoch: 34 | Train Mode Eval Loader Accuracy: 99.2967%\n",
      "Epoch: 35 | Eval Loader Accuracy: 99.2967%\n",
      "Epoch: 35 | Train Mode Eval Loader Accuracy: 99.2967%\n",
      "Epoch: 35 | Accuracy: 99.9800% | Loss: 4.88e-06\n",
      "Epoch: 36 | Eval Loader Accuracy: 99.2733%\n",
      "Epoch: 36 | Train Mode Eval Loader Accuracy: 99.2733%\n",
      "Epoch: 37 | Eval Loader Accuracy: 99.3300%\n",
      "Epoch: 37 | Train Mode Eval Loader Accuracy: 99.3300%\n",
      "Epoch: 38 | Eval Loader Accuracy: 99.2533%\n",
      "Epoch: 38 | Train Mode Eval Loader Accuracy: 99.2533%\n",
      "Epoch: 39 | Eval Loader Accuracy: 99.3000%\n",
      "Epoch: 39 | Train Mode Eval Loader Accuracy: 99.3000%\n",
      "Epoch: 40 | Eval Loader Accuracy: 99.2267%\n",
      "Epoch: 40 | Train Mode Eval Loader Accuracy: 99.2267%\n",
      "Epoch: 40 | Accuracy: 99.9933% | Loss: 5.32e-06\n",
      "Epoch: 41 | Eval Loader Accuracy: 99.2767%\n",
      "Epoch: 41 | Train Mode Eval Loader Accuracy: 99.2767%\n",
      "Epoch: 42 | Eval Loader Accuracy: 99.2067%\n",
      "Epoch: 42 | Train Mode Eval Loader Accuracy: 99.2067%\n",
      "Epoch: 43 | Eval Loader Accuracy: 99.2833%\n",
      "Epoch: 43 | Train Mode Eval Loader Accuracy: 99.2833%\n",
      "Epoch: 44 | Eval Loader Accuracy: 99.2767%\n",
      "Epoch: 44 | Train Mode Eval Loader Accuracy: 99.2767%\n",
      "Epoch: 45 | Eval Loader Accuracy: 99.2767%\n",
      "Epoch: 45 | Train Mode Eval Loader Accuracy: 99.2767%\n",
      "Epoch: 45 | Accuracy: 100.0000% | Loss: 4.40e-06\n",
      "Epoch: 46 | Eval Loader Accuracy: 99.2567%\n",
      "Epoch: 46 | Train Mode Eval Loader Accuracy: 99.2567%\n",
      "Epoch: 47 | Eval Loader Accuracy: 99.2600%\n",
      "Epoch: 47 | Train Mode Eval Loader Accuracy: 99.2600%\n",
      "Epoch: 48 | Eval Loader Accuracy: 99.2767%\n",
      "Epoch: 48 | Train Mode Eval Loader Accuracy: 99.2767%\n",
      "Epoch: 49 | Eval Loader Accuracy: 99.2433%\n",
      "Epoch: 49 | Train Mode Eval Loader Accuracy: 99.2433%\n",
      "Epoch: 50 | Eval Loader Accuracy: 99.2167%\n",
      "Epoch: 50 | Train Mode Eval Loader Accuracy: 99.2167%\n",
      "Epoch: 50 | Accuracy: 99.9833% | Loss: 5.45e-06\n",
      "Epoch: 51 | Eval Loader Accuracy: 99.2367%\n",
      "Epoch: 51 | Train Mode Eval Loader Accuracy: 99.2367%\n",
      "Epoch: 52 | Eval Loader Accuracy: 99.2300%\n",
      "Epoch: 52 | Train Mode Eval Loader Accuracy: 99.2300%\n",
      "Epoch: 53 | Eval Loader Accuracy: 99.2500%\n",
      "Epoch: 53 | Train Mode Eval Loader Accuracy: 99.2500%\n",
      "Epoch: 54 | Eval Loader Accuracy: 99.2467%\n",
      "Epoch: 54 | Train Mode Eval Loader Accuracy: 99.2467%\n",
      "Epoch: 55 | Eval Loader Accuracy: 99.2367%\n",
      "Epoch: 55 | Train Mode Eval Loader Accuracy: 99.2367%\n",
      "Epoch: 55 | Accuracy: 99.9933% | Loss: 4.55e-06\n",
      "Epoch: 56 | Eval Loader Accuracy: 99.2300%\n",
      "Epoch: 56 | Train Mode Eval Loader Accuracy: 99.2300%\n",
      "Epoch: 57 | Eval Loader Accuracy: 99.2767%\n",
      "Epoch: 57 | Train Mode Eval Loader Accuracy: 99.2767%\n",
      "Epoch: 58 | Eval Loader Accuracy: 99.2800%\n",
      "Epoch: 58 | Train Mode Eval Loader Accuracy: 99.2800%\n",
      "Epoch: 59 | Eval Loader Accuracy: 99.2000%\n",
      "Epoch: 59 | Train Mode Eval Loader Accuracy: 99.2000%\n",
      "Epoch: 59 | Accuracy: 100.0000% | Loss: 4.24e-06\n"
     ]
    }
   ],
   "source": [
    "#Stage 1 Training\n",
    "optimizer = SGD(model.parameters(), lr=0.1, momentum=0.9, weight_decay=5e-4)\n",
    "scheduler, EPOCHS = get_scheduler_epochs(all_args[\"schedule\"], optimizer, preloader)\n",
    "\n",
    "ret_pre = train(model, preloader, optimizer, scheduler, loss_fn, EPOCHS = EPOCHS,eval_every = True, eval_loader= preloader)\n",
    "\n",
    "torch.save(model.state_dict(), f\"models/{all_args['dataset1']}/stage_1.pt\")\n",
    "\n",
    "\n",
    "#Stage 2 Training\n",
    "optimizer = SGD(model.parameters(), lr=0.1, momentum=0.9, weight_decay=5e-4)\n",
    "scheduler, EPOCHS = get_scheduler_epochs(all_args[\"schedule\"], optimizer, ftloader)\n",
    "\n",
    "\n",
    "ret_ft = train(model, ftloader, optimizer, scheduler, loss_fn, EPOCHS = EPOCHS, eval_every = True, eval_loader= preloader)\n",
    "\n",
    "torch.save(model.state_dict(), f\"models/{all_args['dataset1']}/stage_2.pt\")"
   ]
  },
  {
   "cell_type": "code",
   "execution_count": 21,
   "metadata": {},
   "outputs": [
    {
     "data": {
      "text/plain": [
       "<matplotlib.collections.PathCollection at 0x7f4d558a2e20>"
      ]
     },
     "execution_count": 21,
     "metadata": {},
     "output_type": "execute_result"
    },
    {
     "data": {
      "image/png": "[encoded data removed]",
      "text/plain": [
       "<Figure size 432x288 with 1 Axes>"
      ]
     },
     "metadata": {
      "needs_background": "light"
     },
     "output_type": "display_data"
    }
   ],
   "source": [
    "masks_pre = ret_pre[\"acc_mask\"]\n",
    "masks_ft = ret_ft[\"acc_mask\"]\n",
    "noise_mask = pre_dict[\"noise_mask\"]\n",
    "\n",
    "learn_epochs = get_first_epoch_where_we_learn_forever(masks_pre)\n",
    "forget_epochs = get_first_epoch_where_we_forget_forever(masks_ft)\n",
    "learn = learn_epochs + np.random.uniform(-0.5, 0.5, size = learn_epochs.shape)\n",
    "forget = forget_epochs \n",
    "fg = forget_epochs.max()\n",
    "forget[forget_epochs!=fg] = forget[forget_epochs!=fg] + np.random.uniform(-0.4, 0.4, size = forget_epochs[forget_epochs!=fg].shape)\n",
    "plt.xlabel(\"Learning Time\")\n",
    "plt.ylabel(\"Second Split Forgetting Time\")\n",
    "\n",
    "plt.axhline(y=fg-0.5, color='r', linestyle='--')\n",
    "plt.scatter(learn, forget, s= 1.5, c = \"b\")"
   ]
  },
  {
   "cell_type": "code",
   "execution_count": 107,
   "metadata": {},
   "outputs": [],
   "source": [
    "import matplotlib\n",
    "import numpy as np\n",
    "\n",
    "matplotlib.rcParams['pdf.fonttype'] = 42\n",
    "matplotlib.rcParams['ps.fonttype'] = 42\n",
    "matplotlib.use('svg')\n",
    "matplotlib.rcParams['font.size'] = 14\n",
    "matplotlib.rcParams['font.family'] = \"serif\"\n",
    "matplotlib.rcParams['font.sans-serif'] = \"Times New Roman\""
   ]
  },
  {
   "cell_type": "code",
   "execution_count": 108,
   "metadata": {},
   "outputs": [
    {
     "data": {
      "image/png": "[encoded data removed]",
      "text/plain": [
       "<Figure size 576x576 with 3 Axes>"
      ]
     },
     "metadata": {
      "needs_background": "light"
     },
     "output_type": "display_data"
    }
   ],
   "source": [
    "import matplotlib.gridspec as gridspec\n",
    "\n",
    "x, y  = learn, forget\n",
    "fig = plt.figure(figsize=(8,8))\n",
    "gs = gridspec.GridSpec(5, 5)\n",
    "ax_main = plt.subplot(gs[1:, :4])\n",
    "ax_xDist = plt.subplot(gs[0, :4])#,sharex=ax_main)\n",
    "ax_yDist = plt.subplot(gs[1:, 4])#,sharey=ax_main)\n",
    "\n",
    "ax_main.scatter(x,y,marker='.',c='tab:blue',s=50)\n",
    "ax_main.set(xlabel=\"Learning Time\", ylabel=\"Second Split Forgetting Time\")\n",
    "ax_main.axhline(y=fg-0.5, color='tab:red', linestyle='--', c = 'tab:red')\n",
    "ax_xDist.hist(x,bins=61,color='tab:red',align='mid')\n",
    "ax_xDist.set(ylabel='#Examples')\n",
    "\n",
    "ax_yDist.hist(y,bins=61,color='tab:red', orientation='horizontal',align='mid')\n",
    "ax_yDist.set(xlabel='#Examples')\n",
    "\n",
    "ax_xDist.set_yscale('log')\n",
    "ax_yDist.set_xscale('log')\n",
    "ax_yDist.set_yticklabels([])\n",
    "ax_xDist.set_xticklabels([])\n",
    "\n",
    "\n",
    "plt.savefig(\"plots/mnist_vis.svg\")\n",
    "plt.show()"
   ]
  },
  {
   "cell_type": "code",
   "execution_count": 97,
   "metadata": {},
   "outputs": [],
   "source": [
    "import pickle\n",
    "with open('mnist_final.pickle', 'wb') as handle:\n",
    "    pickle.dump([learn, forget], handle, protocol=pickle.HIGHEST_PROTOCOL)"
   ]
  },
  {
   "cell_type": "code",
   "execution_count": 106,
   "metadata": {},
   "outputs": [
    {
     "name": "stdout",
     "output_type": "stream",
     "text": [
      "tensor([7, 1, 9, 4])\n"
     ]
    },
    {
     "data": {
      "image/png": "[encoded data removed]",
      "text/plain": [
       "<Figure size 288x288 with 1 Axes>"
      ]
     },
     "metadata": {
      "needs_background": "light"
     },
     "output_type": "display_data"
    }
   ],
   "source": [
    "idx = (forget_epochs<10) & (learn_epochs>45)\n",
    "imshow(pre_dict[\"train_dataset\"].data[idx][:4], loc = \"plots/mnist_bottom_right.png\", rotate = )\n",
    "print(pre_dict[\"train_dataset\"].targets[idx][:4])"
   ]
  }
 ],
 "metadata": {
  "kernelspec": {
   "display_name": "Python 3",
   "language": "python",
   "name": "python3"
  },
  "language_info": {
   "codemirror_mode": {
    "name": "ipython",
    "version": 3
   },
   "file_extension": ".py",
   "mimetype": "text/x-python",
   "name": "python",
   "nbconvert_exporter": "python",
   "pygments_lexer": "ipython3",
   "version": "2.7.5 (default, Oct 30 2018, 23:45:53) \n[GCC 4.8.5 20150623 (Red Hat 4.8.5-36)]"
  },
  "orig_nbformat": 4,
  "vscode": {
   "interpreter": {
    "hash": "e7370f93d1d0cde622a1f8e1c04877d8463912d04d973331ad4851f04de6915a"
   }
  }
 },
 "nbformat": 4,
 "nbformat_minor": 2
}
